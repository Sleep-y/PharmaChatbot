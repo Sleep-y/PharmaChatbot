{
 "cells": [
  {
   "cell_type": "code",
   "execution_count": null,
   "id": "88949dfb",
   "metadata": {},
   "outputs": [],
   "source": [
    "import json\n",
    "import numpy as np\n",
    "import tensorflow as tf\n",
    "import keras\n",
    "from keras_preprocessing.text import tokenizer_from_json\n",
    "from keras.models import Model, Sequential #This works apparently and I have no idea why\n",
    "from tensorflow.keras.preprocessing.text import Tokenizer\n",
    "from tensorflow.keras.preprocessing.sequence import pad_sequences\n",
    "\n",
    "with open('tokenizer.json') as f:\n",
    "    data = json.load(f)\n",
    "    tokenizer = tokenizer_from_json(data)\n",
    "    \n",
    "    \n",
    "#Parameters of Tokenizer\n",
    "vocab_size = 1000\n",
    "max_length = 50\n",
    "trunc_type='post'\n",
    "padding_type='post'\n",
    "oov_tok = \"<OOV>\"\n",
    "\n",
    "intent_recognition_model = keras.models.load_model('intent_recognition_model.keras')\n",
    "probability_model = Sequential([intent_recognition_model, tf.keras.layers.Softmax()])\n",
    "\n",
    "def getIntent(user_prompt):\n",
    "    #print(f\"User Prompt: {user_prompt}\")\n",
    "    tokens = tokenizer.texts_to_sequences([user_prompt])\n",
    "    #print(f\"Tokens: {tokens}\")\n",
    "    tokens = pad_sequences(tokens, maxlen=max_length, padding=padding_type)\n",
    "    probabilities = probability_model.predict(tokens)\n",
    "    #print(f\"Probabilities: {probabilities}\")\n",
    "    predicted_label = np.argmax(probabilities)\n",
    "    #print(f\"Tokens: {tokens}\")\n",
    "    return predicted_label\n",
    "\n",
    "#0: Contact Human Agent - Ask for live human agent\n",
    "#1: Medicine Suggestion Query - Ask for suggestion of OTC medicines based from symptoms or generic drug name (ex. do you have anything for flu?; do you have vitamin D supplements?). \n",
    "#2: Medicine Dosage Query - Ask for dosage directions\n",
    "#3: Medicine Availability Query - \n",
    "\n",
    "def GenerateBotResponse(prompt):\n",
    "    intent = getIntent(prompt)\n",
    "    if (intent == 0):\n",
    "        chatbot_response = \"We will get a human agent to talk with you as soon as possible.\"\n",
    "    elif (intent == 1):\n",
    "        chatbot_response = \"Here is the medicine you asked for.\"\n",
    "    elif (intent == 2):\n",
    "        chatbot_response = \"Here are the instructions for taking your medicine:\"\n",
    "    elif (intent == 3):\n",
    "        chatbot_response = \"Here is the availability of the medicine you asked for.\"\n",
    "    else:\n",
    "        return \"I'm sorry, I don't understand.\"\n",
    "    message = {\"answer\": chatbot_response}"
   ]
  }
 ],
 "metadata": {
  "kernelspec": {
   "display_name": "Python 3 (ipykernel)",
   "language": "python",
   "name": "python3"
  },
  "language_info": {
   "codemirror_mode": {
    "name": "ipython",
    "version": 3
   },
   "file_extension": ".py",
   "mimetype": "text/x-python",
   "name": "python",
   "nbconvert_exporter": "python",
   "pygments_lexer": "ipython3",
   "version": "3.10.11"
  }
 },
 "nbformat": 4,
 "nbformat_minor": 5
}
