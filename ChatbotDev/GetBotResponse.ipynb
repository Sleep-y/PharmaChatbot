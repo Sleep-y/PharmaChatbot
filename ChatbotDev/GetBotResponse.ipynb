{
 "cells": [
  {
   "cell_type": "code",
   "execution_count": 15,
   "id": "ecd190ef",
   "metadata": {},
   "outputs": [],
   "source": [
    "import keras\n",
    "import json\n",
    "import numpy as np\n",
    "from keras_preprocessing.text import tokenizer_from_json\n",
    "from tensorflow.keras.preprocessing.text import Tokenizer\n",
    "from tensorflow.keras.preprocessing.sequence import pad_sequences"
   ]
  },
  {
   "cell_type": "code",
   "execution_count": 29,
   "id": "dd5b6474",
   "metadata": {},
   "outputs": [
    {
     "name": "stdout",
     "output_type": "stream",
     "text": [
      "{'<OOV>': 1, 'otc': 2, 'recommend': 3, 'biogesic': 4, 'take': 5, 'medicine': 6, 'available': 7, 'pain': 8, 'over': 9, 'the': 10, 'counter': 11, 'relief': 12, 'need': 13, 'talk': 14, 'medication': 15, 'understand': 16, 'want': 17, 'would': 18, 'something': 19, 'human': 20, 'suggest': 21, 'option': 22, 'looking': 23, 'child': 24, 'safe': 25, 'helping': 26, 'reliever': 27, 'contact': 28, 'person': 29, 'occasional': 30, 'recommendations': 31, 'agent': 32, 'aid': 33, 'symptoms': 34, 'cough': 35, 'remedy': 36, 'fever': 37, 'today': 38, 'like': 39, 'allergy': 40, 'experiencing': 41, 'options': 42, 'cold': 43, 'children': 44, 'trouble': 45, 'prepared': 46, 'headache': 47, 'going': 48, 'someone': 49, 'currently': 50, 'prescription': 51, 'purchase': 52, 'joint': 53, 'certain': 54, 'seasonal': 55, 'allergies': 56, 'bloating': 57, 'sleep': 58, 'suggestions': 59, 'solution': 60, 'trip': 61, 'medications': 62, 'taking': 63, 'feeling': 64, 'stressed': 65, 'stress': 66, 'minor': 67, 'get': 68, 'dosage': 69, 'prevention': 70, 'product': 71, 'long': 72, 'flight': 73, 'jet': 74, 'lag': 75, 'prevent': 76, 'sore': 77, 'drowsiness': 78, 'gas': 79, 'digestive': 80, 'discomfort': 81, 'persistent': 82, 'kids': 83, 'syrup': 84, 'falling': 85, 'asleep': 86, 'planning': 87, 'motion': 88, 'sickness': 89, 'pack': 90, 'condition': 91, 'sensitivity': 92, 'light': 93, 'effective': 94, 'migraine': 95, 'really': 96, 'know': 97, 'prone': 98, 'especially': 99, 'provide': 100, 'information': 101, 'potential': 102, 'medicines': 103, 'injuries': 104, 'first': 105, 'consider': 106, 'nausea': 107, 'ointment': 108, 'go': 109, 'away': 110, 'see': 111, 'interact': 112, 'health': 113, 'make': 114, 'drowsy': 115, 'supplement': 116, 'congestion': 117, 'often': 118, 'feel': 119, 'vitamin': 120, 'stock': 121, 'relieve': 122, 'headaches': 123, 'sunburn': 124, 'common': 125, 'pregnancy': 126, 'skin': 127, 'indigestion': 128, 'traveling': 129, 'recently': 130, 'surgery': 131, 'throat': 132, 'supplements': 133, 'malaria': 134, 'concerned': 135, 'leave': 136, 'groggy': 137, 'morning': 138, 'every': 139, 'many': 140, 'hours': 141, 'runny': 142, 'nose': 143, 'relieving': 144, \"arre't\": 145, 'next': 146, 'day': 147, 'reducing': 148, 'alternative': 149, 'drink': 150, 'alcohol': 151, 'work': 152, 'anything': 153, 'affect': 154, 'focus': 155, 'car': 156, 'rides': 157, 'side': 158, 'effects': 159, 'hiking': 160, 'items': 161, 'include': 162, 'kit': 163, 'digestion': 164, 'ask': 165, 'refill': 166, 'one': 167, 'cut': 168, 'needs': 169, 'attention': 170, 'wound': 171, 'care': 172, 'accompanied': 173, 'migraines': 174, 'reducer': 175, 'tell': 176, 'hair': 177, 'loss': 178, 'mornings': 179, 'urinary': 180, 'tract': 181, 'infection': 182, 'doctor': 183, 'good': 184, 'stiffness': 185, 'lately': 186, 'acting': 187, 'sneezing': 188, 'another': 189, 'time': 190, 'xhould': 191, 'fatigued': 192, 'energy': 193, 'specific': 194, 'instructions': 195, 'avoiding': 196, 'activities': 197, 'may': 198, 'specifically': 199, 'pollen': 200, 'season': 201, 'please': 202, 'doto': 203, 'speak': 204, 'heartburn': 205, 'meals': 206, 'antacid': 207, 'soothe': 208, 'betadine': 209, 'still': 210, 'track': 211, 'usage': 212, 'ensure': 213, 'stay': 214, 'schedule': 215, 'much': 216, 'camping': 217, 'supplies': 218, 'inventory': 219, 'bee': 220, 'sting': 221, 'cream': 222, 'insect': 223, 'bites': 224, 'pregnant': 225, 'soothing': 226, 'sunburned': 227, 'sale': 228, 'nagging': 229, 'keeping': 230, 'night': 231, 'issues': 232, 'constipation': 233, 'breastfeeding': 234, 'seasickness': 235, 'boat': 236, 'trips': 237, 'additional': 238, 'taken': 239, 'without': 240, 'food': 241, 'tropical': 242, 'area': 243, 'illnesses': 244, 'consume': 245, 'beverages': 246, 'flavored': 247, 'juice': 248, 'interfere': 249, 'ease': 250, 'acne': 251, 'blemishes': 252, 'brands': 253, 'carry': 254, 'joints': 255, 'arthritis': 256, 'relaxing': 257, 'could': 258, 'region': 259, 'risk': 260, 'coughing': 261, 'fits': 262, 'suitable': 263, 'quickly': 264, 'wait': 265, 'expect': 266, 'results': 267, 'aside': 268, 'also': 269, 'boost': 270, 'immune': 271, 'system': 272, 'muscle': 273, 'exercising': 274, 'generic': 275, 'version': 276, 'request': 277, 'different': 278, 'form': 279, 'normal': 280, 'way': 281, 'stomach': 282, 'feels': 283, 'upset': 284, 'using': 285, 'dietary': 286, 'restrictions': 287, 'interactions': 288, 'foods': 289, 'manage': 290, 'flu': 291, 'body': 292, 'aches': 293}\n"
     ]
    }
   ],
   "source": []
  },
  {
   "cell_type": "code",
   "execution_count": 32,
   "id": "6fba1f72",
   "metadata": {},
   "outputs": [
    {
     "name": "stdout",
     "output_type": "stream",
     "text": [
      "{'<OOV>': 1, 'otc': 2, 'recommend': 3, 'biogesic': 4, 'take': 5, 'medicine': 6, 'available': 7, 'pain': 8, 'over': 9, 'the': 10, 'counter': 11, 'relief': 12, 'need': 13, 'talk': 14, 'medication': 15, 'understand': 16, 'want': 17, 'would': 18, 'something': 19, 'human': 20, 'suggest': 21, 'option': 22, 'looking': 23, 'child': 24, 'safe': 25, 'helping': 26, 'reliever': 27, 'contact': 28, 'person': 29, 'occasional': 30, 'recommendations': 31, 'agent': 32, 'aid': 33, 'symptoms': 34, 'cough': 35, 'remedy': 36, 'fever': 37, 'today': 38, 'like': 39, 'allergy': 40, 'experiencing': 41, 'options': 42, 'cold': 43, 'children': 44, 'trouble': 45, 'prepared': 46, 'headache': 47, 'going': 48, 'someone': 49, 'currently': 50, 'prescription': 51, 'purchase': 52, 'joint': 53, 'certain': 54, 'seasonal': 55, 'allergies': 56, 'bloating': 57, 'sleep': 58, 'suggestions': 59, 'solution': 60, 'trip': 61, 'medications': 62, 'taking': 63, 'feeling': 64, 'stressed': 65, 'stress': 66, 'minor': 67, 'get': 68, 'dosage': 69, 'prevention': 70, 'product': 71, 'long': 72, 'flight': 73, 'jet': 74, 'lag': 75, 'prevent': 76, 'sore': 77, 'drowsiness': 78, 'gas': 79, 'digestive': 80, 'discomfort': 81, 'persistent': 82, 'kids': 83, 'syrup': 84, 'falling': 85, 'asleep': 86, 'planning': 87, 'motion': 88, 'sickness': 89, 'pack': 90, 'condition': 91, 'sensitivity': 92, 'light': 93, 'effective': 94, 'migraine': 95, 'really': 96, 'know': 97, 'prone': 98, 'especially': 99, 'provide': 100, 'information': 101, 'potential': 102, 'medicines': 103, 'injuries': 104, 'first': 105, 'consider': 106, 'nausea': 107, 'ointment': 108, 'go': 109, 'away': 110, 'see': 111, 'interact': 112, 'health': 113, 'make': 114, 'drowsy': 115, 'supplement': 116, 'congestion': 117, 'often': 118, 'feel': 119, 'vitamin': 120, 'stock': 121, 'relieve': 122, 'headaches': 123, 'sunburn': 124, 'common': 125, 'pregnancy': 126, 'skin': 127, 'indigestion': 128, 'traveling': 129, 'recently': 130, 'surgery': 131, 'throat': 132, 'supplements': 133, 'malaria': 134, 'concerned': 135, 'leave': 136, 'groggy': 137, 'morning': 138, 'every': 139, 'many': 140, 'hours': 141, 'runny': 142, 'nose': 143, 'relieving': 144, \"arre't\": 145, 'next': 146, 'day': 147, 'reducing': 148, 'alternative': 149, 'drink': 150, 'alcohol': 151, 'work': 152, 'anything': 153, 'affect': 154, 'focus': 155, 'car': 156, 'rides': 157, 'side': 158, 'effects': 159, 'hiking': 160, 'items': 161, 'include': 162, 'kit': 163, 'digestion': 164, 'ask': 165, 'refill': 166, 'one': 167, 'cut': 168, 'needs': 169, 'attention': 170, 'wound': 171, 'care': 172, 'accompanied': 173, 'migraines': 174, 'reducer': 175, 'tell': 176, 'hair': 177, 'loss': 178, 'mornings': 179, 'urinary': 180, 'tract': 181, 'infection': 182, 'doctor': 183, 'good': 184, 'stiffness': 185, 'lately': 186, 'acting': 187, 'sneezing': 188, 'another': 189, 'time': 190, 'xhould': 191, 'fatigued': 192, 'energy': 193, 'specific': 194, 'instructions': 195, 'avoiding': 196, 'activities': 197, 'may': 198, 'specifically': 199, 'pollen': 200, 'season': 201, 'please': 202, 'doto': 203, 'speak': 204, 'heartburn': 205, 'meals': 206, 'antacid': 207, 'soothe': 208, 'betadine': 209, 'still': 210, 'track': 211, 'usage': 212, 'ensure': 213, 'stay': 214, 'schedule': 215, 'much': 216, 'camping': 217, 'supplies': 218, 'inventory': 219, 'bee': 220, 'sting': 221, 'cream': 222, 'insect': 223, 'bites': 224, 'pregnant': 225, 'soothing': 226, 'sunburned': 227, 'sale': 228, 'nagging': 229, 'keeping': 230, 'night': 231, 'issues': 232, 'constipation': 233, 'breastfeeding': 234, 'seasickness': 235, 'boat': 236, 'trips': 237, 'additional': 238, 'taken': 239, 'without': 240, 'food': 241, 'tropical': 242, 'area': 243, 'illnesses': 244, 'consume': 245, 'beverages': 246, 'flavored': 247, 'juice': 248, 'interfere': 249, 'ease': 250, 'acne': 251, 'blemishes': 252, 'brands': 253, 'carry': 254, 'joints': 255, 'arthritis': 256, 'relaxing': 257, 'could': 258, 'region': 259, 'risk': 260, 'coughing': 261, 'fits': 262, 'suitable': 263, 'quickly': 264, 'wait': 265, 'expect': 266, 'results': 267, 'aside': 268, 'also': 269, 'boost': 270, 'immune': 271, 'system': 272, 'muscle': 273, 'exercising': 274, 'generic': 275, 'version': 276, 'request': 277, 'different': 278, 'form': 279, 'normal': 280, 'way': 281, 'stomach': 282, 'feels': 283, 'upset': 284, 'using': 285, 'dietary': 286, 'restrictions': 287, 'interactions': 288, 'foods': 289, 'manage': 290, 'flu': 291, 'body': 292, 'aches': 293}\n"
     ]
    }
   ],
   "source": [
    "#Load models ang tokenizer\n",
    "from keras.models import Model, Sequential\n",
    "from keras.layers import Softmax\n",
    "\n",
    "intent_recognition_model = keras.models.load_model('intent_recognition_model.keras')\n",
    "probability_model = Sequential([intent_recognition_model, Softmax()])\n",
    "\n",
    "#Parameters of Tokenizer\n",
    "vocab_size = 1000\n",
    "max_length = 50\n",
    "trunc_type='post'\n",
    "padding_type='post'\n",
    "oov_tok = \"<OOV>\"\n",
    "\n",
    "#Load tokenizer\n",
    "with open('tokenizer.json') as f:\n",
    "    data = json.load(f)\n",
    "    tokenizer = tokenizer_from_json(data)\n",
    "\n",
    "print(tokenizer.word_index)"
   ]
  },
  {
   "cell_type": "code",
   "execution_count": 26,
   "id": "619644d3",
   "metadata": {},
   "outputs": [],
   "source": [
    "#Remove the stopwords\n",
    "from nltk.corpus import stopwords\n",
    "from nltk.tokenize import word_tokenize\n",
    "import string\n",
    "import contractions\n",
    "\n",
    "stop_words = set(stopwords.words('english'))\n",
    "\n",
    "def removeStopWords(sentence):\n",
    "    filtered_result = \"\"\n",
    "    sent_tokenized = contractions.fix(sentence)\n",
    "    sent_tokenized = word_tokenize(sent_tokenized)\n",
    "    #print(f\"sent_tokenized: {sent_tokenized}\")\n",
    "    for word in sent_tokenized:\n",
    "        #print(f\"Checking if {word} is a stop_word\")\n",
    "        if word.casefold() not in stop_words:\n",
    "            filtered_result = filtered_result + \" \"+ word\n",
    "    filtered_result = filtered_result.strip()\n",
    "    #print(filtered_result)\n",
    "    return filtered_result"
   ]
  },
  {
   "cell_type": "code",
   "execution_count": 39,
   "id": "006bdb77",
   "metadata": {},
   "outputs": [],
   "source": [
    "def getIntent(user_prompt):\n",
    "    print(f\"User Prompt: {user_prompt}\")\n",
    "    clean_input = removeStopWords(user_prompt)\n",
    "    print(f\"USer Prompt Without Stopwords: {clean_input}\")\n",
    "    tokens = tokenizer.texts_to_sequences([clean_input])\n",
    "    print(f\"Tokens: {tokens}\")\n",
    "    tokens = pad_sequences(tokens, maxlen=max_length, padding=padding_type)\n",
    "    probabilities = probability_model.predict(tokens)\n",
    "    print(f\"Probabilities: {probabilities}\")\n",
    "    predicted_label = np.argmax(probabilities)\n",
    "    return predicted_label\n",
    "\n",
    "#0: Contact Human Agent - Ask for live human agent\n",
    "#1: Medicine Suggestion Query - Ask for suggestion of OTC medicines based from symptoms or generic drug name (ex. do you have anything for flu?; do you have vitamin D supplements?). \n",
    "#2: Medicine Dosage Query - Ask for dosage directions\n",
    "#3: Medicine Availability Query - \n",
    "\n",
    "def GenerateBotResponse(intent):\n",
    "    if (intent == 0):\n",
    "        return \"We will get a human agent to talk with you as soon as possible.\"\n",
    "    elif (intent == 1):\n",
    "        return \"Here is the medicine you asked for.\"\n",
    "    elif (intent == 2):\n",
    "        return \"Here are the instructions for taking your medicine:\"\n",
    "    elif (intent == 3):\n",
    "        return \"Here is the availability of the medicine you asked for.\"\n",
    "    else:\n",
    "        return \"I'm sorry, I don't understand.\""
   ]
  },
  {
   "cell_type": "code",
   "execution_count": 41,
   "id": "1faacab5",
   "metadata": {},
   "outputs": [
    {
     "name": "stdout",
     "output_type": "stream",
     "text": [
      "User Prompt: Do you have betadine?\n",
      "USer Prompt Without Stopwords: betadine ?\n",
      "Tokens: [[209]]\n",
      "1/1 [==============================] - 0s 25ms/step\n",
      "Probabilities: [[0.33217418 0.02884594 0.29395673 0.3427316  0.00229156]]\n",
      "Here is the availability of the medicine you asked for.\n"
     ]
    }
   ],
   "source": [
    "#Test\n",
    "test_prompt = \"Do you have betadine?\"\n",
    "\n",
    "print(GenerateBotResponse(getIntent(test_prompt)))"
   ]
  },
  {
   "cell_type": "code",
   "execution_count": null,
   "id": "7ac35b5d",
   "metadata": {},
   "outputs": [],
   "source": [
    "GenerateBotResponse(getIntent(user_input))"
   ]
  }
 ],
 "metadata": {
  "kernelspec": {
   "display_name": "Python 3 (ipykernel)",
   "language": "python",
   "name": "python3"
  },
  "language_info": {
   "codemirror_mode": {
    "name": "ipython",
    "version": 3
   },
   "file_extension": ".py",
   "mimetype": "text/x-python",
   "name": "python",
   "nbconvert_exporter": "python",
   "pygments_lexer": "ipython3",
   "version": "3.10.11"
  }
 },
 "nbformat": 4,
 "nbformat_minor": 5
}
