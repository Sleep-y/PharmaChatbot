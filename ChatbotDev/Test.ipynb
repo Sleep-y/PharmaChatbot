{
 "cells": [
  {
   "cell_type": "code",
   "execution_count": 2,
   "id": "b7a5c823",
   "metadata": {},
   "outputs": [],
   "source": [
    "from nltk import pos_tag, word_tokenize"
   ]
  },
  {
   "cell_type": "code",
   "execution_count": 8,
   "id": "b7f768ff",
   "metadata": {},
   "outputs": [
    {
     "name": "stdout",
     "output_type": "stream",
     "text": [
      "[('Is', 'VBZ'), ('Ascorbic', 'NNP'), ('Acid', 'NNP'), ('available', 'JJ'), ('?', '.')]\n",
      "extracted_keywords: ['Ascorbic Acid']\n"
     ]
    }
   ],
   "source": [
    "import json\n",
    "import contractions\n",
    "import numpy as np\n",
    "import tensorflow as tf\n",
    "import keras\n",
    "from flask import Flask, render_template, request, jsonify\n",
    "from flask_cors import CORS\n",
    "from nltk import pos_tag, word_tokenize\n",
    "from nltk.corpus import stopwords\n",
    "from keras_preprocessing.text import tokenizer_from_json\n",
    "from keras.models import Model, Sequential #This works apparently and I have no idea why\n",
    "from tensorflow.keras.preprocessing.text import Tokenizer\n",
    "from tensorflow.keras.preprocessing.sequence import pad_sequences\n",
    "\n",
    "with open('tokenizer.json') as f:\n",
    "    data = json.load(f)\n",
    "    tokenizer = tokenizer_from_json(data)\n",
    "    \n",
    "#Parameters of Tokenizer\n",
    "vocab_size = 1000\n",
    "max_length = 50\n",
    "trunc_type='post'\n",
    "padding_type='post'\n",
    "oov_tok = \"<OOV>\"\n",
    "\n",
    "stop_words = set(stopwords.words('english'))\n",
    "\n",
    "intent_recognition_model = keras.models.load_model('intent_recognition_model.keras')\n",
    "probability_model = Sequential([intent_recognition_model, tf.keras.layers.Softmax()])\n",
    "\n",
    "def getTokens(user_prompt): #Accepts string\n",
    "    tokens = user_prompt\n",
    "    tokens = contractions.fix(user_prompt)\n",
    "    #print(f\"User Prompt: {user_prompt}\")\n",
    "    tokens = tokenizer.texts_to_sequences([tokens])\n",
    "    tokens = pad_sequences(tokens, maxlen=max_length, padding=padding_type) #Scale the input for the model\n",
    "    #print(f\"Tokens: {tokens}\")\n",
    "    return tokens\n",
    "    \n",
    "\n",
    "def getIntent(prompt): #Accepts string\n",
    "    tokens = getTokens(prompt)\n",
    "    probabilities = probability_model.predict(tokens)\n",
    "    #print(f\"Probabilities: {probabilities}\")\n",
    "    predicted_label = np.argmax(probabilities)\n",
    "    #print(f\"Tokens: {tokens}\")\n",
    "    return predicted_label\n",
    "\n",
    "token_ban_list = [\"available\"]\n",
    "#We must identify nouns for keyword extraction\n",
    "def getKeywords(user_prompt): #Obtain nouns from tokens using POS Tagger\n",
    "    tokens = word_tokenize(user_prompt)\n",
    "    tags = pos_tag(tokens)\n",
    "    extracted_keywords = []\n",
    "    possible_keyterm = \"\"\n",
    "    for index in range(len(tags)): #Try to get key terms based on POS tags of words\n",
    "        if(tags[index][1] in [\"JJ\", \"VBN\", \"NN\", \"NNS\", \"NNP\", \"NNPS\"] and tags[index][0] not in token_ban_list):\n",
    "            possible_keyterm = possible_keyterm + f\"{tags[index][0]} \"\n",
    "        else:\n",
    "            extracted_keywords.append(possible_keyterm)\n",
    "            possible_keyterm = \"\"\n",
    "    extracted_keywords.append(possible_keyterm)\n",
    "    extracted_keywords = [word.strip() for word in extracted_keywords if word != \"\"]\n",
    "    #print(tokens)\n",
    "    print(tags)\n",
    "    print(f\"extracted_keywords: {extracted_keywords}\")\n",
    "\n",
    "    \n",
    "sample_sentence = \"Is Ascorbic Acid available?\"\n",
    "getKeywords(sample_sentence)"
   ]
  },
  {
   "cell_type": "code",
   "execution_count": null,
   "id": "559ce179",
   "metadata": {},
   "outputs": [],
   "source": []
  }
 ],
 "metadata": {
  "kernelspec": {
   "display_name": "Python 3 (ipykernel)",
   "language": "python",
   "name": "python3"
  },
  "language_info": {
   "codemirror_mode": {
    "name": "ipython",
    "version": 3
   },
   "file_extension": ".py",
   "mimetype": "text/x-python",
   "name": "python",
   "nbconvert_exporter": "python",
   "pygments_lexer": "ipython3",
   "version": "3.10.13"
  }
 },
 "nbformat": 4,
 "nbformat_minor": 5
}
