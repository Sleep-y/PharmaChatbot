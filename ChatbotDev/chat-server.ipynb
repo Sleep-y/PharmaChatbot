{
 "cells": [
  {
   "cell_type": "code",
   "execution_count": 1,
   "id": "3db34540",
   "metadata": {},
   "outputs": [],
   "source": [
    "import http.server\n",
    "import socketserver"
   ]
  },
  {
   "cell_type": "code",
   "execution_count": null,
   "id": "a279f1d8",
   "metadata": {},
   "outputs": [],
   "source": [
    "class SimpleHTTPRequestHandler(http.server.BaseHTTPRequestHandler):\n",
    "\n",
    "    def do_GET(self):\n",
    "        # Send the HTTP response\n",
    "        self.send_response(200)\n",
    "        self.send_header('Content-type', 'text/html')\n",
    "        self.end_headers()\n",
    "\n",
    "        # Send the HTML content\n",
    "        self.wfile.write(b'<!DOCTYPE html>\\n<html>\\n<head>\\n<title>Chatbot Web Server</title>\\n</head>\\n<body>\\n<h1>Chatbot web server</h1>\\n</body>\\n</html>')\n"
   ]
  },
  {
   "cell_type": "code",
   "execution_count": null,
   "id": "e077f77e",
   "metadata": {},
   "outputs": [],
   "source": [
    "PORT = 8000  # Change this if you want to use a different port\n",
    "\n",
    "httpd = socketserver.TCPServer(('', PORT), SimpleHTTPRequestHandler)"
   ]
  },
  {
   "cell_type": "code",
   "execution_count": null,
   "id": "a2675d6f",
   "metadata": {},
   "outputs": [],
   "source": [
    "print(f'Serving on port {PORT}')\n",
    "httpd.serve_forever()"
   ]
  }
 ],
 "metadata": {
  "kernelspec": {
   "display_name": "Python 3 (ipykernel)",
   "language": "python",
   "name": "python3"
  },
  "language_info": {
   "codemirror_mode": {
    "name": "ipython",
    "version": 3
   },
   "file_extension": ".py",
   "mimetype": "text/x-python",
   "name": "python",
   "nbconvert_exporter": "python",
   "pygments_lexer": "ipython3",
   "version": "3.10.11"
  }
 },
 "nbformat": 4,
 "nbformat_minor": 5
}
